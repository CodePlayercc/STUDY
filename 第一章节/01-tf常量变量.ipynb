{
 "cells": [
  {
   "cell_type": "code",
   "execution_count": 10,
   "metadata": {},
   "outputs": [
    {
     "name": "stdout",
     "output_type": "stream",
     "text": [
      "Tensor(\"Const_7:0\", shape=(), dtype=int32)\n",
      "<tf.Variable 'var_7:0' shape=() dtype=int32_ref>\n",
      "10\n"
     ]
    }
   ],
   "source": [
    "import tensorflow as tf\n",
    "data1 = tf.constant(2,dtype=tf.int32)#实点型数据\n",
    "data2 = tf.Variable(10,name='var')\n",
    "print(data1)#不能直接输出值\n",
    "print(data2)\n",
    "'''\n",
    "sess = tf.Session()#调用Session的方法输出之\n",
    "print(sess.run(data1))\n",
    "init = tf.global_variables_initializer()#变量需要初始化\n",
    "sess.run(init)#让变量跑起来\n",
    "print(sess.run(data2))\n",
    "sess.close()\n",
    "'''\n",
    "init = tf.global_variables_initializer()\n",
    "sess = tf.Session()\n",
    "with sess:#此放法不用关闭\n",
    "    sess.run(init)\n",
    "    print(sess.run(data2))\n"
   ]
  },
  {
   "cell_type": "code",
   "execution_count": null,
   "metadata": {},
   "outputs": [],
   "source": []
  }
 ],
 "metadata": {
  "kernelspec": {
   "display_name": "Python 3",
   "language": "python",
   "name": "python3"
  },
  "language_info": {
   "codemirror_mode": {
    "name": "ipython",
    "version": 3
   },
   "file_extension": ".py",
   "mimetype": "text/x-python",
   "name": "python",
   "nbconvert_exporter": "python",
   "pygments_lexer": "ipython3",
   "version": "3.7.3"
  }
 },
 "nbformat": 4,
 "nbformat_minor": 2
}
