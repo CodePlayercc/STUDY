{
 "cells": [
  {
   "cell_type": "code",
   "execution_count": 2,
   "metadata": {},
   "outputs": [
    {
     "data": {
      "image/png": "[encoded data removed]",
      "text/plain": [
       "<Figure size 432x288 with 1 Axes>"
      ]
     },
     "metadata": {
      "needs_background": "light"
     },
     "output_type": "display_data"
    }
   ],
   "source": [
    "import tensorflow as tf\n",
    "import numpy as np\n",
    "import matplotlib.pyplot as plt\n",
    "#date = np.linspace(1,15,15)#可删\n",
    "endPrice = np.array([2511.90,2538.26,2510.68,2591.66,2732.98,2701.69,2701.29,2678.67,2726.50,2681.50,2739.17,2715.07,2823.58,2864.90,2919.08]\n",
    ")\n",
    "beginPrice = np.array([2438.71,2500.88,2534.95,2512.52,2594.04,2743.26,2697.47,2695.24,2678.23,2722.13,2674.93,2744.13,2717.46,2832.73,2877.40])\n",
    "#print(date)\n",
    "plt.figure()\n",
    "for i in range(0,15):\n",
    "    dataOne = np.zeros([2])#定义二维数据\n",
    "    dataOne[0] = i;\n",
    "    dataOne[1] = i;\n",
    "    priceOne = np.zeros([2])\n",
    "    priceOne[0] = beginPrice[i]\n",
    "    priceOne[1] = endPrice[i]\n",
    "    if endPrice[i]>beginPrice[i]:\n",
    "        plt.plot(dataOne,priceOne,'r',lw=8)\n",
    "    else:\n",
    "        plt.plot(dataOne,priceOne,'g',lw=8)\n",
    "plt.show()\n",
    "\n",
    "                \n",
    "    "
   ]
  },
  {
   "cell_type": "code",
   "execution_count": 9,
   "metadata": {},
   "outputs": [
    {
     "data": {
      "image/png": "[encoded data removed]",
      "text/plain": [
       "<Figure size 432x288 with 1 Axes>"
      ]
     },
     "metadata": {
      "needs_background": "light"
     },
     "output_type": "display_data"
    }
   ],
   "source": [
    "import tensorflow as tf\n",
    "import numpy as np\n",
    "import matplotlib.pyplot as plt\n",
    "endPrice = np.array([2511.90,2538.26,2510.68,2591.66,2732.98,2701.69,2701.29,2678.67,2726.50,2681.50,2739.17,2715.07,2823.58,2864.90,2919.08]\n",
    ")\n",
    "beginPrice = np.array([2438.71,2500.88,2534.95,2512.52,2594.04,2743.26,2697.47,2695.24,2678.23,2722.13,2674.93,2744.13,2717.46,2832.73,2877.40])\n",
    "plt.figure()#绘图\n",
    "for i in range(0,15):\n",
    "    dataOne = np.zeros([2])#定义二维数据\n",
    "    dataOne[0] = i;\n",
    "    dataOne[1] = i;\n",
    "    priceOne = np.zeros([2])\n",
    "    priceOne[0] = beginPrice[i]\n",
    "    priceOne[1] = endPrice[i]\n",
    "    if endPrice[i]>beginPrice[i]:\n",
    "        plt.plot(dataOne,priceOne,'r',lw=8)\n",
    "    else:\n",
    "        plt.plot(dataOne,priceOne,'g',lw=8)\n",
    "#plt.show()\n",
    "dateNormal = np.zeros([15,1])#定义空矩阵\n",
    "priceNormal = np.zeros([15,1])\n",
    "for i in range(0,15):#归一化处理\n",
    "    dateNormal[i,0] = i/14.0; #日期最大14\n",
    "    priceNormal[i,0] = endPrice[i]/3000.0;#价格用I下标 最大值不超过3000\n",
    "x = tf.placeholder(tf.float32,[None,1])#N行一列 placeholder装载\n",
    "y = tf.placeholder(tf.float32,[None,1])\n",
    "#B\n",
    "w1 = tf.Variable(tf.random_uniform([1,10],0,1))#随机变量 0-1\n",
    "b1 = tf.Variable(tf.zeros([1,10]))\n",
    "wb1 = tf.matmul(x,w1)+b1\n",
    "layer1 = tf.nn.relu(wb1)#激励函数\n",
    "#C\n",
    "w2 = tf.Variable(tf.random_uniform([10,1],0,1))\n",
    "b2 = tf.Variable(tf.zeros([15,1]))\n",
    "wb2 = tf.matmul(layer1,w2)+b2\n",
    "layer2 = tf.nn.relu(wb2)\n",
    "loss = tf.reduce_mean(tf.square(y-layer2))#计算差值 y真实值 lyer2计算 =标准差\n",
    "train_step = tf.train.GradientDescentOptimizer(0.1).minimize(loss)#梯度下降法调整缩小loss train表示只缩小一部分\n",
    "with tf.Session() as sess:\n",
    "    sess.run(tf.global_variables_initializer())\n",
    "    for i in range(0,10000):\n",
    "        sess.run(train_step,feed_dict={x:dateNormal,y:priceNormal})\n",
    "   #w1w2 b1b2 A+wb --> layer2(预测)\n",
    "    pred = sess.run(layer2,feed_dict={x:dateNormal})\n",
    "    predPrice = np.zeros([15,1])\n",
    "    for i in range(0,15):\n",
    "        predPrice[i,0]=(pred*3000)[i,0]\n",
    "    plt.plot(date,predPrice,'b',lw=1)\n",
    "plt.show()\n",
    "                \n",
    "                 \n",
    "    "
   ]
  },
  {
   "cell_type": "code",
   "execution_count": null,
   "metadata": {},
   "outputs": [],
   "source": []
  },
  {
   "cell_type": "code",
   "execution_count": null,
   "metadata": {},
   "outputs": [],
   "source": []
  }
 ],
 "metadata": {
  "kernelspec": {
   "display_name": "Python 3",
   "language": "python",
   "name": "python3"
  },
  "language_info": {
   "codemirror_mode": {
    "name": "ipython",
    "version": 3
   },
   "file_extension": ".py",
   "mimetype": "text/x-python",
   "name": "python",
   "nbconvert_exporter": "python",
   "pygments_lexer": "ipython3",
   "version": "3.7.3"
  }
 },
 "nbformat": 4,
 "nbformat_minor": 2
}
