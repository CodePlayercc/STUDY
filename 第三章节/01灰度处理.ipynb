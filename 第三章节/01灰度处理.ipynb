{
 "cells": [
  {
   "cell_type": "code",
   "execution_count": null,
   "metadata": {},
   "outputs": [
    {
     "name": "stdout",
     "output_type": "stream",
     "text": [
      "(547, 730)\n",
      "(547, 730, 3)\n"
     ]
    }
   ],
   "source": [
    "import cv2#直接通过读取得到灰度图片\n",
    "img0 = cv2.imread('image0.jpg',0)\n",
    "img1 = cv2.imread('image0.jpg',1)\n",
    "print(img0.shape)\n",
    "print(img1.shape)\n",
    "cv2.imshow('src',img0)\n",
    "cv2.waitKey(0)"
   ]
  },
  {
   "cell_type": "code",
   "execution_count": null,
   "metadata": {},
   "outputs": [],
   "source": [
    "import cv2#在读取后再转换\n",
    "img = cv2.imread('image0.jpg',1)\n",
    "dst = cv2.cvtColor(img,cv2.COLOR_BGR2GRAY)#颜色空间转换 1 data 2 BGR->gra\n",
    "cv2.imshow('dst',dst)\n",
    "cv2.waitKey(0)"
   ]
  },
  {
   "cell_type": "code",
   "execution_count": null,
   "metadata": {},
   "outputs": [],
   "source": [
    "import cv2#通过修改像素点的方法改变灰度\n",
    "import numpy as np\n",
    "img = cv2.imread('image0.jpg',1)\n",
    "imgInfo = img.shape\n",
    "height = imgInfo[0]\n",
    "width = imgInfo[1]\n",
    "#RGB R=G=B = gray   （R+G+B/3)\n",
    "dst = np.zeros((height,width,3),np.uint8)\n",
    "for i in range(0,height):\n",
    "    for j in range(0,width):\n",
    "        (b,g,r) = img[i,j]#像素点的像素值读取\n",
    "        gray = (int(b)+int(g)+int(r))/3\n",
    "        dst[i,j] = np.uint8(gray)#此时存储在dst中的高宽不变 变得是颜色值 即uint\n",
    "cv2.imshow('dst',dst)\n",
    "cv2.waitKey(0)\n",
    "        "
   ]
  },
  {
   "cell_type": "code",
   "execution_count": null,
   "metadata": {},
   "outputs": [],
   "source": [
    "#方法4 gray= r*0.299+g*0.587 +b*0.114\n",
    "import cv2#通过修改像素点的方法改变灰度  心里值转换公式\n",
    "import numpy as np\n",
    "img = cv2.imread('image0.jpg',1)\n",
    "imgInfo = img.shape\n",
    "height = imgInfo[0]\n",
    "width = imgInfo[1]\n",
    "#RGB R=G=B = gray   （R+G+B/3)\n",
    "dst = np.zeros((height,width,3),np.uint8)\n",
    "for i in range(0,height):\n",
    "    for j in range(0,width):\n",
    "        (b,g,r) = img[i,j]#像素点的像素值读取\n",
    "        b = int(b)\n",
    "        g = int(g)\n",
    "        r = int(r)\n",
    "    \n",
    "        gray = r*0.299+g*0.587+b*0.114\n",
    "        dst[i,j] = np.uint8(gray)#此时存储在dst中的高宽不变 变得是颜色值 即uint\n",
    "cv2.imshow('dst',dst)\n",
    "cv2.waitKey(0)\n",
    "        "
   ]
  },
  {
   "cell_type": "code",
   "execution_count": null,
   "metadata": {},
   "outputs": [],
   "source": []
  }
 ],
 "metadata": {
  "kernelspec": {
   "display_name": "Python 3",
   "language": "python",
   "name": "python3"
  },
  "language_info": {
   "codemirror_mode": {
    "name": "ipython",
    "version": 3
   },
   "file_extension": ".py",
   "mimetype": "text/x-python",
   "name": "python",
   "nbconvert_exporter": "python",
   "pygments_lexer": "ipython3",
   "version": "3.7.3"
  }
 },
 "nbformat": 4,
 "nbformat_minor": 2
}
