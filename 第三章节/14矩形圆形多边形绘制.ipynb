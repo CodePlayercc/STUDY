{
 "cells": [
  {
   "cell_type": "code",
   "execution_count": null,
   "metadata": {},
   "outputs": [],
   "source": [
    "import cv2 \n",
    "import numpy as np\n",
    "newImageInfo = (500,500,3)\n",
    "dst = np.zeros(newImageInfo,np.uint8)\n",
    "cv2.rectangle(dst,(50,100),(200,300),(255,0,0),-1)# 目标图片 左上角 右下角 颜色 填充-1  大于零则表示线条的宽度\n",
    "cv2.circle(dst,(250,250),(50),(250,0,0),2)#圆心位置 半径 颜色 填充\n",
    "cv2.ellipse(dst,(256,256),(150,150),0,0,180,(255,255,0),-1)#椭圆圆心 长轴短轴的长度 偏转角度 起始角度 终止角度 颜色 填充\n",
    "points = np.array([[150,50],[140,140],[200,170],[250,250],[150,50]],np.int32)\n",
    "\n",
    "points = points.reshape((-1,1,2))#转置  维度转换\n",
    "\n",
    "cv2.polylines(dst,[points],True,(0,255,255))\n",
    "\n",
    "\n",
    "cv2.imshow('dst',dst)\n",
    "cv2.waitKey(0)"
   ]
  },
  {
   "cell_type": "code",
   "execution_count": null,
   "metadata": {},
   "outputs": [],
   "source": []
  },
  {
   "cell_type": "code",
   "execution_count": null,
   "metadata": {},
   "outputs": [],
   "source": []
  }
 ],
 "metadata": {
  "kernelspec": {
   "display_name": "Python 3",
   "language": "python",
   "name": "python3"
  },
  "language_info": {
   "codemirror_mode": {
    "name": "ipython",
    "version": 3
   },
   "file_extension": ".py",
   "mimetype": "text/x-python",
   "name": "python",
   "nbconvert_exporter": "python",
   "pygments_lexer": "ipython3",
   "version": "3.7.3"
  }
 },
 "nbformat": 4,
 "nbformat_minor": 2
}
