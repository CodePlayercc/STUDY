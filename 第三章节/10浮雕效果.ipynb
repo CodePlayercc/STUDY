{
 "cells": [
  {
   "cell_type": "code",
   "execution_count": null,
   "metadata": {},
   "outputs": [],
   "source": [
    "import cv2\n",
    "import numpy as np\n",
    "img = cv2.imread('image0.jpg',1)\n",
    "imgInfo = img.shape\n",
    "height = imgInfo[0]\n",
    "width = imgInfo[1]\n",
    "cv2.imshow('src',img)\n",
    "gray = cv2.cvtColor(img,cv2.COLOR_BGR2GRAY)\n",
    "#newP = gray0 - gray1 + 150  减 突出凸片边缘特征   加 突出灰度等级\n",
    "dst = np.zeros((height,width,1),np.uint8)\n",
    "for i in range(0,height):\n",
    "    for j in range(0,width-1):#防止越界\n",
    "        grayP0 = int(gray[i,j])   #用int强制转换超出的值\n",
    "        grayP1 = int(gray[i,j+1])\n",
    "        newP = grayP0-grayP1+150\n",
    "        if newP > 255:\n",
    "            newP = 255\n",
    "        if newP < 0:\n",
    "            newP = 0\n",
    "        dst[i,j] = newP\n",
    "cv2.imshow('dst',dst)\n",
    "cv2.waitKey(0)"
   ]
  },
  {
   "cell_type": "code",
   "execution_count": null,
   "metadata": {},
   "outputs": [],
   "source": []
  }
 ],
 "metadata": {
  "kernelspec": {
   "display_name": "Python 3",
   "language": "python",
   "name": "python3"
  },
  "language_info": {
   "codemirror_mode": {
    "name": "ipython",
    "version": 3
   },
   "file_extension": ".py",
   "mimetype": "text/x-python",
   "name": "python",
   "nbconvert_exporter": "python",
   "pygments_lexer": "ipython3",
   "version": "3.7.3"
  }
 },
 "nbformat": 4,
 "nbformat_minor": 2
}
