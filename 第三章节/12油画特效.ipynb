{
 "cells": [
  {
   "cell_type": "code",
   "execution_count": null,
   "metadata": {},
   "outputs": [],
   "source": [
    "#彩色到灰度 分割小方块统计灰度值 0-255划分等级 找到方块中灰度最多的灰度 统计出来的平均值填充\n",
    "import cv2\n",
    "import numpy as np\n",
    "img = cv2.imread('image00.jpg',1)\n",
    "cv2.imshow('src',img)\n",
    "imgInfo = img.shape\n",
    "height = imgInfo[0]\n",
    "width = imgInfo[1] \n",
    "gray = cv2.cvtColor(img,cv2.COLOR_BGR2GRAY)\n",
    "dst = np.zeros((height,width,3),np.uint8)# 3是深度\n",
    "for i in range(4,height-4):\n",
    "    for j in range(4,width-4):\n",
    "        array1 = np.zeros(8,np.uint8)#装载灰度等级8 像素个数8\n",
    "        for m in range(-4,4):\n",
    "            for n in range(-4,4):\n",
    "                p1 = int(gray[i+m,j+n]/32)#p1投影的灰度等级\n",
    "                array1[p1] = array1[p1] + 1#d对array1[p1]进行累加 p1代表灰度分类等级且p1为下标  0-7\n",
    "            currentMax = array1[0]#人为设置初始变量\n",
    "            l = 0\n",
    "            for k in range(0,8):\n",
    "                if currentMax<array1[k]:\n",
    "                    currentMax = array1[k]\n",
    "                    l = k\n",
    "            for m in range(-4,4):#求均值\n",
    "                for n in range(-4,4):\n",
    "                    if gray[i+m,j+n]>=(l*32) and gray[i+m,j+n]<=((l+1)*32):\n",
    "                        (b,g,r) = img[i+m,j+n]\n",
    "            dst[i,j] = (b,g,r)\n",
    "cv2.imshow('dst',dst)\n",
    "cv2.waitKey(0)\n",
    "        \n"
   ]
  },
  {
   "cell_type": "code",
   "execution_count": null,
   "metadata": {},
   "outputs": [],
   "source": []
  },
  {
   "cell_type": "code",
   "execution_count": null,
   "metadata": {},
   "outputs": [],
   "source": []
  }
 ],
 "metadata": {
  "kernelspec": {
   "display_name": "Python 3",
   "language": "python",
   "name": "python3"
  },
  "language_info": {
   "codemirror_mode": {
    "name": "ipython",
    "version": 3
   },
   "file_extension": ".py",
   "mimetype": "text/x-python",
   "name": "python",
   "nbconvert_exporter": "python",
   "pygments_lexer": "ipython3",
   "version": "3.7.3"
  }
 },
 "nbformat": 4,
 "nbformat_minor": 2
}
