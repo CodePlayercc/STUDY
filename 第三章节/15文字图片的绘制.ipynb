{
 "cells": [
  {
   "cell_type": "code",
   "execution_count": null,
   "metadata": {},
   "outputs": [],
   "source": [
    "import cv2\n",
    "import numpy as np\n",
    "img = cv2.imread('image0.jpg',1)\n",
    "font = cv2.FONT_HERSHEY_SCRIPT_SIMPLEX\n",
    "cv2.rectangle(img,(200,100),(500,400),(0,255,0),3)#画方框\n",
    "cv2.putText(img,'This is flower',(100,300),font,1,(200,100,255),2,cv2.LINE_AA)#100,300 起始位置\n",
    "# dst  文字内容  写入坐标 字体 字体大小 颜色 粗细 线一条类型\n",
    "cv2.imshow('src',img)\n",
    "cv2.waitKey(0)\n"
   ]
  },
  {
   "cell_type": "code",
   "execution_count": null,
   "metadata": {},
   "outputs": [],
   "source": [
    "import cv2\n",
    "img = cv2.imread('image0.jpg',1)\n",
    "height = int(img.shape[0]*0.2)\n",
    "width = int(img.shape[1]*0.2) \n",
    "imgResize = cv2.resize(img,(width,height))#调用resize缩放\n",
    "for i in range(0,height):\n",
    "    for j in range(0,width):\n",
    "        img[i+100,j+200] = imgResize[i,j]#遍历数据并写入原图相应的位置\n",
    "cv2.imshow('src',img)\n",
    "cv2.waitKey(0)"
   ]
  },
  {
   "cell_type": "code",
   "execution_count": null,
   "metadata": {},
   "outputs": [],
   "source": []
  }
 ],
 "metadata": {
  "kernelspec": {
   "display_name": "Python 3",
   "language": "python",
   "name": "python3"
  },
  "language_info": {
   "codemirror_mode": {
    "name": "ipython",
    "version": 3
   },
   "file_extension": ".py",
   "mimetype": "text/x-python",
   "name": "python",
   "nbconvert_exporter": "python",
   "pygments_lexer": "ipython3",
   "version": "3.7.3"
  }
 },
 "nbformat": 4,
 "nbformat_minor": 2
}
