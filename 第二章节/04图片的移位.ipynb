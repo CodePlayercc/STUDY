{
 "cells": [
  {
   "cell_type": "code",
   "execution_count": null,
   "metadata": {},
   "outputs": [],
   "source": [
    "#1 API 2 算法原理 3 源代码\n",
    "import cv2\n",
    "import numpy as np\n",
    "img = cv2.imread('image0.jpg',1)\n",
    "cv2.imshow('src',img)#src原图数据\n",
    "imgInfo  = img.shape\n",
    "height = imgInfo[0]\n",
    "width = imgInfo[1]\n",
    "matShift = np.float32([[1,0,100],[0,1,200]])#移位矩阵 2*3  定义float使用常量      右移100下移动200\n",
    "dst = cv2.warpAffine(img,matShift,(height,width))#1 data 2 mat 3 info warpA映射\n",
    "cv2.imshow('dst',dst)\n",
    "cv2.waitKey(0)"
   ]
  },
  {
   "cell_type": "code",
   "execution_count": null,
   "metadata": {},
   "outputs": [],
   "source": [
    "#[1,0,100],[0,1,200] =2*2 2*1\n",
    "#[[1,0],[0,1]]    A\n",
    "#[[100],[200]]  B\n",
    "#xy C  输入 一列\n",
    "# A*C+B = XY移位后的矩阵  [1*x+0*y],[0*x+1*y]+[[100],[200]]\n",
    "#[x+100][y+200]"
   ]
  },
  {
   "cell_type": "code",
   "execution_count": null,
   "metadata": {},
   "outputs": [],
   "source": [
    "#像素级别移动\n",
    "import cv2\n",
    "import numpy as np\n",
    "img = cv2.imread('image0.jpg',1)\n",
    "cv2.imshow('src',img)\n",
    "imgInfo  = img.shape\n",
    "dst = np.zeros(img.shape,np.uint8)\n",
    "height = imgInfo[0]\n",
    "width = imgInfo[1]\n",
    "for i in range(0,height):\n",
    "    for j in range(0,width-100):#右移动  读到-100停止\n",
    "        dst[i,j+100]=img[i,j]#!!! 最终结果要加回100 不然会左移\n",
    "cv2.imshow('image',dst)\n",
    "cv2.waitKey(0)\n",
    "    "
   ]
  },
  {
   "cell_type": "code",
   "execution_count": null,
   "metadata": {},
   "outputs": [],
   "source": []
  }
 ],
 "metadata": {
  "kernelspec": {
   "display_name": "Python 3",
   "language": "python",
   "name": "python3"
  },
  "language_info": {
   "codemirror_mode": {
    "name": "ipython",
    "version": 3
   },
   "file_extension": ".py",
   "mimetype": "text/x-python",
   "name": "python",
   "nbconvert_exporter": "python",
   "pygments_lexer": "ipython3",
   "version": "3.7.3"
  }
 },
 "nbformat": 4,
 "nbformat_minor": 2
}
