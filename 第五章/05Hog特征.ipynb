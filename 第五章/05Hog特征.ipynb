{
 "cells": [
  {
   "cell_type": "code",
   "execution_count": null,
   "metadata": {},
   "outputs": [],
   "source": [
    "# 1 什么是HOG特征 ？  某个像素某种运算\n",
    "# 2  2·1 模块的划分  2·2  梯度 方向  模板  2·3  bin 投影  2·4  每个模块hog\n",
    "# 2·1 模块的划分\n",
    "# image(整个ppt) win（蓝色窗体） block（红色块） cell（绿色）  (size)\n",
    "#  image>win>block>cell  大小关系\n",
    "# block setp win step  cell bin\n",
    "# win 特征计算最顶层单元》》包含目标的全部信息 》obj\n",
    "# 1 win size  大小任意 推荐 行人识别 64*128\n",
    "# 2 block小于win  win size 是block的整数倍  64*64-》16*16\n",
    "# 3 block step  如何在win下滑动 8*8\n",
    "# 4 计算block cout=((64-16)/8+1)*（（128-16）/8+1）= 105block 上下方向\n",
    "# 5 cell size 8*8\n",
    "# 6 block=? cell   16*16=2*2= 4  cell（不移动）    1-4 标签\n",
    "# bin  梯度 《-运算\n",
    "# 每个像素梯度 》 大小（幅值 f  方向 angle\n",
    "# 0-360  / 40 = 9 单元= 9 bin      1bin = 40\n",
    "# cell 包含9个bin  完整的360信息\n",
    "# hog 特征的维度： 向量 \n",
    "# haar 得到的是值\n",
    "# 维度 = win 窗口中的block个数 105*4*9=3780   完全描述一个obj"
   ]
  },
  {
   "cell_type": "code",
   "execution_count": null,
   "metadata": {},
   "outputs": [],
   "source": [
    "# 计算梯度的方向 大小  以像素为单位 每个像素都有梯度\n",
    "# hog == win所有像素\n",
    "#特征模板   类似haar\n",
    "# a【1，0，-1】水平  b【【1】【0】【-1】】 竖直\n",
    "# a = p1*1+p2*0+p3*(-1)= 相邻像素差\n",
    "# b = 上下像素差\n",
    "#f= 根号下（a方 + b 方）\n",
    "# angle = arctan(a/b)\n"
   ]
  },
  {
   "cell_type": "code",
   "execution_count": null,
   "metadata": {},
   "outputs": [],
   "source": [
    "# bin 的投影 依赖于梯度\n",
    "# 在bin 中 0-360 -》9bin   0-40不连续 20+20\n",
    "# bin1  0-20   180-200 在相同的bin上   center\n",
    "# ij f  angle=10  位于 0-20  则在bin1 \n",
    "#  190  180-200  在bin1 上\n",
    "# f= 15  分解到bin1 bin2 上\n",
    "# f1 = f*f  f2 = f*(1-f(夹角))   f(夹角)  0-1.0\n",
    "# +1 hog 投影到某个区间 "
   ]
  },
  {
   "cell_type": "code",
   "execution_count": null,
   "metadata": {},
   "outputs": [],
   "source": [
    "# 整体hog特征  cell 复用\n",
    "# 3780  来源 每一个维度 bin\n",
    "# 1 bin \n",
    "# cell0 - cell3  bin0-bin8\n",
    "#cell0:  bin0-bin8\n",
    "#cell1:  bin0-bin8\n",
    "#cell2:  bin0-bin8\n",
    "#cell3:  bin0-bin8\n",
    "#  ij (像素)  投影在 cell0 bin0   -> f0\n",
    "#  i+1,j   cell0 bin0  ->  f1\n",
    "#ij....\n",
    "#sumbin0(f0+f1..)= bin0\n",
    "#权重累加\n",
    "#ij  bin0 bin1\n",
    "\n",
    "#cell复用\n",
    "# block  四个 cell\n",
    "#  [0] [1] [2] [3]\n",
    "#cell0 bin0-bin9\n",
    "#cellx0 cellx2 cdllx4\n",
    "#cellx0   ij   bin bin+1  只对cell0起作用\n",
    "#cellx2   ij  cell2  cell3    2bin  bin+1    3bin  bin+1\n",
    "#cdllx4   ij   4个cell   8个bin\n",
    "\n",
    "#【cell 9]  [4cell]   [105]     = 3780"
   ]
  },
  {
   "cell_type": "code",
   "execution_count": null,
   "metadata": {},
   "outputs": [],
   "source": [
    "#判决 【3780】 hog   svm line训练 【3780】\n",
    "#  hog * svm  = 值  {两个 3780}\n",
    "#值 > T  目标obj"
   ]
  }
 ],
 "metadata": {
  "kernelspec": {
   "display_name": "Python 3",
   "language": "python",
   "name": "python3"
  },
  "language_info": {
   "codemirror_mode": {
    "name": "ipython",
    "version": 3
   },
   "file_extension": ".py",
   "mimetype": "text/x-python",
   "name": "python",
   "nbconvert_exporter": "python",
   "pygments_lexer": "ipython3",
   "version": "3.7.3"
  }
 },
 "nbformat": 4,
 "nbformat_minor": 2
}
