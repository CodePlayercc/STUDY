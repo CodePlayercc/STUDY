{
 "cells": [
  {
   "cell_type": "code",
   "execution_count": null,
   "metadata": {},
   "outputs": [],
   "source": [
    "#什么是haar?   特征=某个区域的像素点经过运算之后得到的某一结果\n",
    "# 具体的内容 向量 矩阵 多维的\n",
    "\n",
    "#如何利用特征区分目标  阈值判决\n",
    "\n",
    "#得到判决？机器学习\n",
    "#特征（区域像素运算） 判决  得到判决\n",
    "#特征 = 整个区域 *权重1 +  黑色*权重2  =  （黑色+白色）*1 + 黑*（-2）=白色-黑色\n",
    "\n",
    "#A  小块  B 横条  C竖条  D 全部\n",
    "#4 = A-B-C+D=1+1+2+3+4-1-2-1-3=4   3次  但需要把每一个方块遍历一次  （p1-p2-p3+p4)*w\n",
    "\n",
    "#haar + adaboost    face\n",
    "#苹果  苹果 苹果 香蕉\n",
    "#0.1   0.1   0.1  0.5   不断加强负样本\n",
    "#训练终止条件  1 迭代最大次数    2  最小的检测概率\n",
    "#1 分类器的结构  2  ad计算过程   3  xml 文件结构\n",
    "# haar >T1  and  haar>T2   两个强分类器组成 一般15-20个 才被认为是目标\n",
    "#三个强分类器  1 x1 T1    2 x2 T2    3 x3 T3  \n",
    "#  x1>Ti  x2>T2  x3>T3  通过三个强分类器  目标》》苹果    只要有一个不通过 则不是苹果\n",
    "#作用：判决\n",
    "#一个强分类器 可以分为若干个弱分类器  \n",
    "#弱分类器 作用 ：计算强分类器的特征x1x2x3\n",
    "#x2 = sum(y1,y2,y3)\n",
    "\n",
    "#y1 弱分类器特征\n",
    "#node z\n",
    "#3个 haar-> node \n",
    "#1node haar1 > nodeT1     z1= a1\n",
    "#1node haar1 < nodeT1     z1= a2\n",
    "#Z =  sum(z1,z2,z3)>T      y1 = AA  最多3个node 结点\n",
    "#Z =  sum(z1,z2,z3)<T      y1 = BB"
   ]
  },
  {
   "cell_type": "code",
   "execution_count": null,
   "metadata": {},
   "outputs": [],
   "source": [
    "#adaboost 训练\n",
    "#1 初始化数据权值分布\n",
    "#  苹果  苹果 苹果 香蕉\n",
    "#   0.1  0.1  0.1  0.1  必须相等\n",
    "#  2  遍历阈值 p\n",
    "#  最小误差概率P  对应权值 t\n",
    "#  计算权重系数\n",
    "#  更新训练系数的权重分布\n",
    "#0.2 0.2 0.2 0.7\n",
    "##  训练终止条件 1 迭代最大次数    2  最小的检测概率"
   ]
  },
  {
   "cell_type": "code",
   "execution_count": null,
   "metadata": {},
   "outputs": [
    {
     "name": "stdout",
     "output_type": "stream",
     "text": [
      "face= 1\n",
      "eye= 1\n"
     ]
    }
   ],
   "source": [
    "# 1 load 参谋文件  2 加载图片   3  haar   灰度处理  4 检测 人脸 眼睛  5  绘制标注\n",
    "import cv2\n",
    "import numpy as np\n",
    "#xml 文件的引入 文件名称\n",
    "face_xml = cv2.CascadeClassifier('haarcascade_frontalface_default.xml')\n",
    "eve_xml = cv2.CascadeClassifier('haarcascade_eye.xml')\n",
    "#load  jpg\n",
    "img = cv2.imread('face2.jpg')\n",
    "cv2.imshow('src',img)\n",
    "#计算haar  转化灰度\n",
    "gray = cv2.cvtColor(img,cv2.COLOR_BGR2GRAY)\n",
    "#检测\n",
    "faces = face_xml.detectMultiScale(gray,1.1,5)# data  缩放大小  目标大小 最小不少于5个像素\n",
    "print('face=',len(faces))\n",
    "#draw\n",
    "for (x,y,w,h) in faces:\n",
    "    cv2.rectangle(img,(x,y),(x+w,y+h),(255,0,0),2)#左上角 到 右下角  原彩色图片\n",
    "    roi_face = gray[y:y+h,x:x+w]\n",
    "    roi_color = img[y:y+h,x:x+w]\n",
    "    #参数必须是灰度\n",
    "    eyes = eve_xml.detectMultiScale(roi_face)\n",
    "    print('eye=',len(eyes))\n",
    "    for (e_x,e_y,e_w,e_h) in eyes:\n",
    "        cv2.rectangle(roi_color,(e_x,e_y),(e_x+e_w,e_y+e_h),(0,255,0),2)\n",
    "cv2.imshow('dst',img)#出现的位置不同\n",
    "cv2.waitKey(0)\n"
   ]
  },
  {
   "cell_type": "code",
   "execution_count": null,
   "metadata": {},
   "outputs": [],
   "source": []
  },
  {
   "cell_type": "code",
   "execution_count": null,
   "metadata": {},
   "outputs": [],
   "source": []
  }
 ],
 "metadata": {
  "kernelspec": {
   "display_name": "Python 3",
   "language": "python",
   "name": "python3"
  },
  "language_info": {
   "codemirror_mode": {
    "name": "ipython",
    "version": 3
   },
   "file_extension": ".py",
   "mimetype": "text/x-python",
   "name": "python",
   "nbconvert_exporter": "python",
   "pygments_lexer": "ipython3",
   "version": "3.7.3"
  }
 },
 "nbformat": 4,
 "nbformat_minor": 2
}
