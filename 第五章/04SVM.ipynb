{
 "cells": [
  {
   "cell_type": "code",
   "execution_count": 6,
   "metadata": {},
   "outputs": [
    {
     "name": "stdout",
     "output_type": "stream",
     "text": [
      "[[167.  55.]\n",
      " [162.  57.]]\n",
      "0.0 [[0.]\n",
      " [1.]]\n"
     ]
    }
   ],
   "source": [
    "#1 思想 分类器\n",
    "# 2 如何？ 寻求1个最优超平面\n",
    "#3  核： line \n",
    "#4 数据样本  1-2  2-3  任意组合都行\n",
    "#  label 标签\n",
    "#5 训练\n",
    "# svm 本质  寻求一个最优超平面\n",
    "#svm line线性\n",
    "#身高体重的分类 训练  预测男生身高女生身高\n",
    "import cv2\n",
    "import numpy as np\n",
    "import matplotlib.pyplot as plt\n",
    "#1 数据准备\n",
    "rand1 = np.array([[155,48],[159,50],[164,53],[168,56],[172,60]])\n",
    "rand2 = np.array([[152,53],[156,55],[160,56],[172,64],[176,65]])\n",
    "\n",
    "#label 标签\n",
    "label = np.array([[0],[0],[0],[0],[0],[1],[1],[1],[1],[1]])\n",
    "# 数据处理\n",
    "data = np.vstack((rand1,rand2))#合并数据\n",
    "data = np.array(data,dtype='float32')# 用上上面的数据\n",
    "\n",
    "#svm所有数据必须要有标签 描绘当前数据的唯一的属性 男生女生\n",
    "#监督学习 有标签  0 负样本 1 正样本\n",
    "\n",
    "#训练代码\n",
    "svm = cv2.ml.SVM_create()#m1  机器学习模块  SVM_create 创建支持向量积\n",
    "#属性设置\n",
    "svm.setType(cv2.ml.SVM_C_SVC)#设置svm类型\n",
    "svm.setKernel(cv2.ml.SVM_LINEAR)#设置线性内核\n",
    "svm.setC(0.01)#与核有关的参数\n",
    "#训练\n",
    "result = svm.train(data,cv2.ml.ROW_SAMPLE,label)#  2 类型 简单类型  3 标签\n",
    "#预测\n",
    "pt_data = np.vstack([[167,55],[162,57]])# 0 女生  1 男生\n",
    "pt_data = np.array(pt_data,dtype='float32')\n",
    "print(pt_data)\n",
    "(par1,par2) = svm.predict(pt_data)\n",
    "print(par1,par2)"
   ]
  },
  {
   "cell_type": "code",
   "execution_count": null,
   "metadata": {},
   "outputs": [],
   "source": []
  }
 ],
 "metadata": {
  "kernelspec": {
   "display_name": "Python 3",
   "language": "python",
   "name": "python3"
  },
  "language_info": {
   "codemirror_mode": {
    "name": "ipython",
    "version": 3
   },
   "file_extension": ".py",
   "mimetype": "text/x-python",
   "name": "python",
   "nbconvert_exporter": "python",
   "pygments_lexer": "ipython3",
   "version": "3.7.3"
  }
 },
 "nbformat": 4,
 "nbformat_minor": 2
}
