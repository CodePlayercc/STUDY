{
 "cells": [
  {
   "cell_type": "code",
   "execution_count": null,
   "metadata": {},
   "outputs": [],
   "source": [
    "#1 准备样本  2 对样本进行HOG+SVM训练  3  预测\n",
    "#1.1样本  pos正样本 包含所检测的目标  neg 负样本不包含所检测的目标  尺寸调整64*128\n",
    "#1.2  如何获取样本 1 网络 2公司内部 3  自己收集\n",
    "#一个好的样本远胜一个复杂的神经网络   积极学习 几千个 深度学习 几兆个\n",
    "#1.2.1  网络公司  一张图 一块钱  贵\n",
    "#1.2.2  自己爬取\n",
    "# 1.2.3   公司内部的积累 红外图像\n",
    "#1.2.4  自己收集  视频的方式  100*30\n",
    "# 正（负）样本的特点 尽可能的多样化  环境多样（干扰多样）\n",
    "#  820pos  1931neg   1;2  1;3\n",
    "#  name  规律\n"
   ]
  },
  {
   "cell_type": "code",
   "execution_count": null,
   "metadata": {},
   "outputs": [
    {
     "name": "stdout",
     "output_type": "stream",
     "text": [
      "(0.19288761757743814, array([[1.]]), array([[0]], dtype=int32))\n",
      "[0.]\n"
     ]
    }
   ],
   "source": [
    "#训练 \n",
    "#1 参数的设置  2 创建一个HOG  3  SVM   4 计算HOG 5 label标签  6 完成训练 7 完成预测  8 绘图\n",
    "import cv2\n",
    "import numpy as np\n",
    "import matplotlib.pyplot as plt\n",
    "PosNum = 820\n",
    "NegNum = 1931\n",
    "winSize = (64,128)\n",
    "blockSize = (16,16)#105\n",
    "blocksStride = (8,8)#步长\n",
    "cellSize = (8,8)#不移动\n",
    "nBin = (9)#3780\n",
    "\n",
    "#2 hog创建\n",
    "hog = cv2.HOGDescriptor(winSize,blockSize,blocksStride,cellSize,nBin)#创建hog\n",
    "#3  svm创建\n",
    "svm = cv2.ml.SVM_create()\n",
    "# 4  计算hog\n",
    "featureNum = int(((128-16)/8+1)*((64-16)/8+1)*4*9)#3780\n",
    "featureArray = np.zeros(((PosNum+NegNum),featureNum),np.float32)#二维  行列\n",
    "labelArray = np.zeros((PosNum+NegNum,1),np.int32)#维度为1\n",
    "#  设置原因 上   svm  监督学习   需要样本标签  学习的是图片hog特征  \n",
    "for i in range(0,PosNum):\n",
    "    fileName = 'pos\\\\'+str(i+1)+'.jpg'#win下用双斜杠\n",
    "    img = cv2.imread(fileName)#省略  彩色\n",
    "    hist = hog.compute(img,(8,8))#文件  hog    3780维度\n",
    "    for j in range(0,featureNum):\n",
    "        featureArray[i,j] = hist[j]#   featureArray装载hog特征 【1，：】 hog1[2,:]hog2\n",
    "    labelArray[i,0] = 1#正样本 标签是1\n",
    "\n",
    "for i in range(0,NegNum):\n",
    "    fileName = 'neg\\\\'+str(i+1)+'.jpg'\n",
    "    img = cv2.imread(fileName)#省略  彩色\n",
    "    hist = hog.compute(img,(8,8))\n",
    "    for j in range(0,featureNum):\n",
    "        featureArray[i+PosNum,j] = hist[j]\n",
    "        labelArray[i+PosNum,0] = -1\n",
    "\n",
    "#正样本 1  负样本-1\n",
    "svm.setType(cv2.ml.SVM_C_SVC)\n",
    "svm.setKernel(cv2.ml.SVM_LINEAR)\n",
    "svm.setC(0.01)\n",
    "#训练\n",
    "ret = svm.train(featureArray,cv2.ml.ROW_SAMPLE,labelArray)#ret返回值   svm来源\n",
    "#检测   没有用svmpredtict\n",
    "#resultaway  rho 如何计算（来源svm)\n",
    "alpha = np.zeros((1),np.float32)\n",
    "rho = svm.getDecisionFunction(0,alpha)#来源 get方法\n",
    "print(rho)\n",
    "print(alpha)\n",
    "alphaArray = np.zeros((1,1),np.float32)\n",
    "supportVArray = np.zeros((1,featureNum),np.float32)#支持向量机数组\n",
    "resultArray = np.zeros((1,featureNum),np.float32)\n",
    "alphaArray[0,0] = alpha#设置alphaArray内容 一行一列\n",
    "resultArray = -1*alphaArray*supportVArray# 在需要时先计算  支持向量机\n",
    "#构建detect\n",
    "myDetect = np.zeros((3781),np.float32)\n",
    "for i in range(0,3780):#受featureNum限制\n",
    "    myDetect[i] = resultArray[0,i]\n",
    "\n",
    "myDetect[3780] = rho[0]#最后维度来源\n",
    "#构建hog\n",
    "#rho svm  阈值判决 累加时候起作用   \n",
    "myHog = cv2.HOGDescriptor()\n",
    "myHog.setSVMDetector(myDetect)#返回一个Hog  传递属性\n",
    "imageSrc = cv2.imread('Test2.jpg',1)\n",
    "#（8，8） 滑动步长  32，32  窗体大小\n",
    "#核心 myhog\n",
    "objs = myHog.detectMultiScale(imageSrc,0,(8,8),(32,32),1.05,2)# 返回检测结果data 0  8*8 32*32 缩放 2\n",
    "#  xy wh   三维信息  参数放在最后一维\n",
    "x = int(objs[0][0][0])# objs 是三维类型\n",
    "y = int(objs[0][0][1])\n",
    "w = int(objs[0][0][2])\n",
    "h = int(objs[0][0][3])\n",
    "cv2.rectangle(imageSrc,(x,y),(x+w,y+h),(255,0,0),2)\n",
    "cv2.imshow('dst',imageSrc)\n",
    "cv2.waitKey(0)"
   ]
  },
  {
   "cell_type": "code",
   "execution_count": null,
   "metadata": {},
   "outputs": [],
   "source": []
  }
 ],
 "metadata": {
  "kernelspec": {
   "display_name": "Python 3",
   "language": "python",
   "name": "python3"
  },
  "language_info": {
   "codemirror_mode": {
    "name": "ipython",
    "version": 3
   },
   "file_extension": ".py",
   "mimetype": "text/x-python",
   "name": "python",
   "nbconvert_exporter": "python",
   "pygments_lexer": "ipython3",
   "version": "3.7.3"
  }
 },
 "nbformat": 4,
 "nbformat_minor": 2
}
