{
 "cells": [
  {
   "cell_type": "code",
   "execution_count": null,
   "metadata": {},
   "outputs": [],
   "source": [
    "import cv2\n",
    "import numpy as np\n",
    "def ImageHist(image,type):#直方图统计\n",
    "    color = (255,255,255)\n",
    "    windowName = 'Gray'\n",
    "    if type == 31:\n",
    "        color == (255,0,0)\n",
    "        windowName == 'B Hist'\n",
    "    elif type == 32:\n",
    "        color = (0,255,0)\n",
    "        windowName = 'G Hist'\n",
    "    elif type == 33:\n",
    "        color = (0,0,255)\n",
    "        windowName = 'R Hist'\n",
    "    hist = cv2.calcHist([image],[0],None,[256],[0.0,255.0])\n",
    "    #计算直方图  图片  计算直方图通道 灰度时为0   mask蒙版  直方图的size0-255  直方图中的像素值\n",
    "    minV,maxV,minL,maxL = cv2.minMaxLoc(hist)#定义最小值  定义下标  并获取\n",
    "    histImg = np.zeros([256,256,3],np.uint8)#创建画布\n",
    "    for h in range(256):\n",
    "        intenNormal = int(hist[h]*256/maxV)#归一化数据 归一到0-256\n",
    "        cv2.line(histImg,(h,256),(h,256-intenNormal),color)\n",
    "    cv2.imshow(windowName,histImg)\n",
    "    return histImg\n",
    "img = cv2.imread('image0.jpg',1)\n",
    "channels = cv2.split(img)#获取每一个通道   split完成图像的分解 RGB\n",
    "for i in range(0,3):\n",
    "    ImageHist(channels[i],31+i)\n",
    "cv2.waitKey(0)"
   ]
  },
  {
   "cell_type": "code",
   "execution_count": null,
   "metadata": {},
   "outputs": [],
   "source": []
  }
 ],
 "metadata": {
  "kernelspec": {
   "display_name": "Python 3",
   "language": "python",
   "name": "python3"
  },
  "language_info": {
   "codemirror_mode": {
    "name": "ipython",
    "version": 3
   },
   "file_extension": ".py",
   "mimetype": "text/x-python",
   "name": "python",
   "nbconvert_exporter": "python",
   "pygments_lexer": "ipython3",
   "version": "3.7.3"
  }
 },
 "nbformat": 4,
 "nbformat_minor": 2
}
