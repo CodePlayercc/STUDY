{
 "cells": [
  {
   "cell_type": "code",
   "execution_count": null,
   "metadata": {},
   "outputs": [],
   "source": [
    "#API形式高斯滤波\n",
    "import cv2\n",
    "img = cv2.imread('image11.jpg',1)\n",
    "cv2.imshow('src',img)\n",
    "dst = cv2.GaussianBlur(img,(5,5),1.5)#后期\n",
    "cv2.imshow('dst',dst)\n",
    "cv2.waitKey(0)#变得模糊 缺点"
   ]
  },
  {
   "cell_type": "code",
   "execution_count": null,
   "metadata": {},
   "outputs": [],
   "source": [
    "#均值 6*6模板  全一   *【6*6】数据/36    得到均值进行替换\n",
    "import cv2\n",
    "import numpy as np\n",
    "img = cv2.imread('image11.jpg',1)\n",
    "imgInfo = img.shape\n",
    "height = imgInfo[0]\n",
    "width = imgInfo[1]\n",
    "dst = np.zeros((height,width,3),np.uint8)\n",
    "for i in range(3,height-3):\n",
    "    for j in range(3,width-3):\n",
    "        sum_b = int(0)\n",
    "        sum_g = int(0)\n",
    "        sum_r = int(0)#统计模板中所有的均值\n",
    "        for m in range(-3,3):#-3 -2- 1 0 1 2\n",
    "            for n in range(-3,3):\n",
    "                (b,g,r) = img[i+m,j+n]\n",
    "                sum_b = sum_b+int(b)\n",
    "                sum_g = sum_g+int(g)\n",
    "                sum_r = sum_r+int(r)\n",
    "        b = np.uint8(sum_b/36)#六行六列\n",
    "        g = np.uint8(sum_g/36)\n",
    "        r = np.uint8(sum_r/36)\n",
    "        dst[i,j] = (b,g,r)\n",
    "cv2.imshow('dst',dst)\n",
    "cv2.waitKey(0)\n"
   ]
  },
  {
   "cell_type": "code",
   "execution_count": null,
   "metadata": {},
   "outputs": [],
   "source": []
  }
 ],
 "metadata": {
  "kernelspec": {
   "display_name": "Python 3",
   "language": "python",
   "name": "python3"
  },
  "language_info": {
   "codemirror_mode": {
    "name": "ipython",
    "version": 3
   },
   "file_extension": ".py",
   "mimetype": "text/x-python",
   "name": "python",
   "nbconvert_exporter": "python",
   "pygments_lexer": "ipython3",
   "version": "3.7.3"
  }
 },
 "nbformat": 4,
 "nbformat_minor": 2
}
