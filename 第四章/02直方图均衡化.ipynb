{
 "cells": [
  {
   "cell_type": "code",
   "execution_count": null,
   "metadata": {},
   "outputs": [],
   "source": [
    "import cv2\n",
    "import numpy as np\n",
    "img = cv2.imread('image0.jpg',1)\n",
    "gray = cv2.cvtColor(img,cv2.COLOR_BGR2GRAY)\n",
    "cv2.imshow('src',gray)\n",
    "dst = cv2.equalizeHist(gray)#均衡化API  只需要输入灰度\n",
    "cv2.imshow('dst',dst)\n",
    "cv2.waitKey(0)\n"
   ]
  },
  {
   "cell_type": "code",
   "execution_count": null,
   "metadata": {},
   "outputs": [],
   "source": [
    "#彩色图片\n",
    "import cv2\n",
    "import numpy as np\n",
    "img = cv2.imread('image0.jpg',1)\n",
    "cv2.imshow('src',img)\n",
    "(b,g,r) = cv2.split(img)#通道的分解\n",
    "bH = cv2.equalizeHist(b)\n",
    "gH = cv2.equalizeHist(g)\n",
    "rH = cv2.equalizeHist(r)\n",
    "result = cv2.merge((bH,gH,rH))#通道的合成\n",
    "cv2.imshow('dst',result)\n",
    "cv2.waitKey(0)"
   ]
  },
  {
   "cell_type": "code",
   "execution_count": null,
   "metadata": {},
   "outputs": [],
   "source": [
    "#YUV通达均衡化\n",
    "import cv2\n",
    "import numpy as np\n",
    "img = cv2.imread('image0.jpg',1)\n",
    "imgYUV = cv2.cvtColor(img,cv2.COLOR_BGR2YCrCb)#转换为YUV通道\n",
    "cv2.imshow('src',img)\n",
    "channelYUV = cv2.split(imgYUV)#通道的分解  转换为三维并存储\n",
    "channelYUV[0] = cv2.equalizeHist(channelYUV[0])#拿出第一个通道\n",
    "\n",
    "channels = cv2.merge(channelYUV)#通道的合成\n",
    "result = cv2.cvtColor(channels,cv2.COLOR_YCrCb2BGR)#转成bgr图片\n",
    "cv2.imshow('dst',result)\n",
    "cv2.waitKey(0)"
   ]
  },
  {
   "cell_type": "code",
   "execution_count": null,
   "metadata": {},
   "outputs": [],
   "source": []
  }
 ],
 "metadata": {
  "kernelspec": {
   "display_name": "Python 3",
   "language": "python",
   "name": "python3"
  },
  "language_info": {
   "codemirror_mode": {
    "name": "ipython",
    "version": 3
   },
   "file_extension": ".py",
   "mimetype": "text/x-python",
   "name": "python",
   "nbconvert_exporter": "python",
   "pygments_lexer": "ipython3",
   "version": "3.7.3"
  }
 },
 "nbformat": 4,
 "nbformat_minor": 2
}
